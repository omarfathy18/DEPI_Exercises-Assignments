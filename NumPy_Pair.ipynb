{
  "cells": [
    {
      "cell_type": "markdown",
      "metadata": {
        "id": "a-agpV2t8zt5"
      },
      "source": [
        "# NumPy Pair Problem\n",
        "\n",
        "For today's pair, we will use NumPy to complete the following tasks consecutively."
      ]
    },
    {
      "cell_type": "code",
      "execution_count": 1,
      "metadata": {
        "id": "IMHd6b4I8zt6"
      },
      "outputs": [],
      "source": [
        "import numpy as np\n",
        "\n",
        "# Set random seed so that results are reproducible\n",
        "np.random.seed(0)"
      ]
    },
    {
      "cell_type": "markdown",
      "metadata": {
        "id": "nV7EjI3U8zt7"
      },
      "source": [
        "### 1. Generate three separate 1-dimensional arrays of 10,000 elements each.\n",
        "* Array 1 should contain numbers randomly drawn from the uniform distribution between 1 and 100\n",
        "* Array 2 should contain numbers randomly drawn from the normal distribution, with a mean of 0 and a standard deviation of 1\n",
        "* Array 3 should contain numbers randomly drawn from the binomial distribution, where n=10 and p=0.5"
      ]
    },
    {
      "cell_type": "code",
      "execution_count": 2,
      "metadata": {
        "id": "9HuqZAUm8zt8"
      },
      "outputs": [],
      "source": [
        "arr1 = np.random.uniform(1, 100, 10000)\n",
        "arr2 = np.random.normal(0, 1, 10000)\n",
        "arr3 = np.random.binomial(10, 0.5, 10000)"
      ]
    },
    {
      "cell_type": "markdown",
      "metadata": {
        "id": "YDDUvweu8zt8"
      },
      "source": [
        "### 2. For each array, randomly sample 1,000 rows without replacement. (hint: `np.random.choice()`)\n"
      ]
    },
    {
      "cell_type": "code",
      "execution_count": 4,
      "metadata": {
        "id": "rNwISN6W8zt8"
      },
      "outputs": [],
      "source": [
        "s_arr1 = np.random.choice(arr1, size=1000, replace=False)\n",
        "s_arr2 = np.random.choice(arr2, size=1000, replace=False)\n",
        "s_arr3 = np.random.choice(arr3, size=1000, replace=False)"
      ]
    },
    {
      "cell_type": "markdown",
      "metadata": {
        "id": "4BzBUpld8zt8"
      },
      "source": [
        "### 3. For each of the three samples:  \n",
        "- Calculate the mean, median, and standard deviation\n",
        "- Find the index and the value of the largest element (hint: `np.argmax()`)  \n",
        "- Find the value of the 75th percentile (hint: `np.percentile()`)  "
      ]
    },
    {
      "cell_type": "code",
      "execution_count": 6,
      "metadata": {
        "id": "F-tKFtF-8zt8"
      },
      "outputs": [],
      "source": [
        "# For sample 1\n",
        "s_arr1_mean = np.mean(s_arr1)\n",
        "s_arr1_median =  np.median(s_arr1)\n",
        "s_arr1_sd = np.std(s_arr1)\n",
        "s_arr1_l_idx = np.argmax(s_arr1)\n",
        "s_arr1_l_element = s_arr1[s_arr1_l_idx]\n",
        "s_arr1_75_perc = np.percentile(s_arr1, 75)\n",
        "\n",
        "# For sample 2\n",
        "s_arr2_mean = np.mean(s_arr2)\n",
        "s_arr2_median =  np.median(s_arr2)\n",
        "s_arr2_sd = np.std(s_arr2)\n",
        "s_arr2_l_idx = np.argmax(s_arr2)\n",
        "s_arr2_l_element = s_arr2[s_arr2_l_idx]\n",
        "s_arr2_75_perc = np.percentile(s_arr2, 75)\n",
        "\n",
        "# For sample 3\n",
        "s_arr3_mean = np.mean(s_arr3)\n",
        "s_arr3_median =  np.median(s_arr3)\n",
        "s_arr3_sd = np.std(s_arr3)\n",
        "s_arr3_l_idx = np.argmax(s_arr3)\n",
        "s_arr3_l_element = s_arr3[s_arr3_l_idx]\n",
        "s_arr3_75_perc = np.percentile(s_arr3, 75)"
      ]
    },
    {
      "cell_type": "markdown",
      "metadata": {
        "id": "Dm3KKvCh8zt8"
      },
      "source": [
        "### 4. Sort each of the three samples in increasing order, then combine them together to create a 1,000 by 3 array. (hint: `np.sort()` and `np.stack()`). Now, check the shape of the array."
      ]
    },
    {
      "cell_type": "code",
      "execution_count": 9,
      "metadata": {
        "colab": {
          "base_uri": "https://localhost:8080/"
        },
        "id": "p8Z4VmdJ8zt9",
        "outputId": "0cfffd5e-fb40-44ed-cd85-06f7234a1528"
      },
      "outputs": [
        {
          "output_type": "execute_result",
          "data": {
            "text/plain": [
              "(1000, 3)"
            ]
          },
          "metadata": {},
          "execution_count": 9
        }
      ],
      "source": [
        "# For sample 1\n",
        "sorted_s_arr1 = np.sort(s_arr1)\n",
        "\n",
        "# For sample 2\n",
        "sorted_s_arr2 = np.sort(s_arr2)\n",
        "\n",
        "# For sample 3\n",
        "sorted_s_arr3 = np.sort(s_arr3)\n",
        "\n",
        "# Combine them in one array (1000x3)\n",
        "combined_arr = np.stack((sorted_s_arr1, sorted_s_arr2, sorted_s_arr3), axis=1)\n",
        "combined_arr.shape"
      ]
    },
    {
      "cell_type": "markdown",
      "metadata": {
        "id": "Tuoimeqc8zt9"
      },
      "source": [
        "### 5. Replace all negative values with 0. Replace all values that exceed 10 with 10."
      ]
    },
    {
      "cell_type": "code",
      "execution_count": 10,
      "metadata": {
        "id": "wO0raGXm8zt9"
      },
      "outputs": [],
      "source": [
        "combined_arr[combined_arr < 0] = 0\n",
        "combined_arr[combined_arr > 10] = 10"
      ]
    },
    {
      "cell_type": "markdown",
      "metadata": {
        "id": "KrlU2XHI8zt9"
      },
      "source": [
        "### 6. Subtract 5 from all values that exceed 5. (hint: `np.where()`)"
      ]
    },
    {
      "cell_type": "code",
      "execution_count": 11,
      "metadata": {
        "id": "pa4ZLMyG8zt9"
      },
      "outputs": [],
      "source": [
        "combined_arr = np.where(combined_arr > 5, combined_arr - 5, combined_arr)"
      ]
    },
    {
      "cell_type": "markdown",
      "metadata": {
        "id": "p7bq547j8zt9"
      },
      "source": [
        "### 7. Produce a fourth column that is the sum of the first two columns.  (hint: `np.hstack()`). Now check the new shape of the array."
      ]
    },
    {
      "cell_type": "code",
      "source": [
        "sum = combined_arr[:, 0] + combined_arr[:, 1]\n",
        "new_arr = np.hstack((combined_arr, sum.reshape(-1, 1))) # .reshape is needed in hstack to make sum a 2D array\n",
        "new_arr.shape"
      ],
      "metadata": {
        "colab": {
          "base_uri": "https://localhost:8080/"
        },
        "id": "ujTiWlAGDh4R",
        "outputId": "ba16918e-fd41-4a89-afe8-3118bb77eb4e"
      },
      "execution_count": 12,
      "outputs": [
        {
          "output_type": "execute_result",
          "data": {
            "text/plain": [
              "(1000, 4)"
            ]
          },
          "metadata": {},
          "execution_count": 12
        }
      ]
    },
    {
      "cell_type": "markdown",
      "metadata": {
        "id": "U7F610mx8zt9"
      },
      "source": [
        "### 8. Use broadcasting to add 1 to each element of the first column, 2 to each element of the second column, 3 to each element of the third column, and 4 to each element of the fourth column."
      ]
    },
    {
      "cell_type": "code",
      "execution_count": 13,
      "metadata": {
        "id": "1FOkwJ5F8zt9"
      },
      "outputs": [],
      "source": [
        "adjustments = np.array([1, 2, 3, 4])\n",
        "new_arr += adjustments"
      ]
    },
    {
      "cell_type": "markdown",
      "metadata": {
        "id": "QCOCoCSZ8zt9"
      },
      "source": [
        "### 9. Matrix multiply this 1000x4 array by a 4x1 array of ones. How many unique values are in the resulting product?  (hint: `np.unique()`)"
      ]
    },
    {
      "cell_type": "code",
      "execution_count": 14,
      "metadata": {
        "colab": {
          "base_uri": "https://localhost:8080/"
        },
        "id": "zOB3XBaI8zt9",
        "outputId": "141dc388-6220-4c4e-ccd4-e2437a3e52bd"
      },
      "outputs": [
        {
          "output_type": "execute_result",
          "data": {
            "text/plain": [
              "589"
            ]
          },
          "metadata": {},
          "execution_count": 14
        }
      ],
      "source": [
        "res_product = np.dot(new_arr, np.ones(shape=(4, 1)))\n",
        "unique_values = np.unique(res_product)\n",
        "len(unique_values)"
      ]
    },
    {
      "cell_type": "markdown",
      "metadata": {
        "id": "J8aptasg8zt-"
      },
      "source": [
        "# Thank You"
      ]
    }
  ],
  "metadata": {
    "kernelspec": {
      "display_name": "Python 3 (ipykernel)",
      "language": "python",
      "name": "python3"
    },
    "language_info": {
      "codemirror_mode": {
        "name": "ipython",
        "version": 3
      },
      "file_extension": ".py",
      "mimetype": "text/x-python",
      "name": "python",
      "nbconvert_exporter": "python",
      "pygments_lexer": "ipython3",
      "version": "3.12.7"
    },
    "toc": {
      "base_numbering": 1,
      "nav_menu": {},
      "number_sections": false,
      "sideBar": true,
      "skip_h1_title": false,
      "title_cell": "Table of Contents",
      "title_sidebar": "Contents",
      "toc_cell": false,
      "toc_position": {},
      "toc_section_display": true,
      "toc_window_display": true
    },
    "colab": {
      "provenance": []
    }
  },
  "nbformat": 4,
  "nbformat_minor": 0
}