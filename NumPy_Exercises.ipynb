{
  "cells": [
    {
      "cell_type": "markdown",
      "id": "f22321c4-05e7-4bdd-a258-1bb20b89b9f2",
      "metadata": {
        "id": "f22321c4-05e7-4bdd-a258-1bb20b89b9f2"
      },
      "source": [
        "# NumPy Exercises\n"
      ]
    },
    {
      "cell_type": "code",
      "execution_count": null,
      "id": "5f072d39-1dd8-412d-8e99-ee3209251b93",
      "metadata": {
        "id": "5f072d39-1dd8-412d-8e99-ee3209251b93"
      },
      "outputs": [],
      "source": [
        "import numpy as np\n",
        "import string"
      ]
    },
    {
      "cell_type": "markdown",
      "id": "fc249983-6007-4c27-9287-712075a77864",
      "metadata": {
        "id": "fc249983-6007-4c27-9287-712075a77864"
      },
      "source": [
        "## Array Creation\n",
        "\n",
        "NumPy supports a variety of methods for array creation."
      ]
    },
    {
      "cell_type": "code",
      "execution_count": null,
      "id": "f426501a-74cf-4af1-bc18-034534b3c024",
      "metadata": {
        "colab": {
          "base_uri": "https://localhost:8080/"
        },
        "id": "f426501a-74cf-4af1-bc18-034534b3c024",
        "outputId": "d3e2fe5a-74a2-4280-ad3a-ac19ea68956e"
      },
      "outputs": [
        {
          "output_type": "execute_result",
          "data": {
            "text/plain": [
              "array([ 10,  20,  30,  40,  50,  60,  70,  80,  90, 100])"
            ]
          },
          "metadata": {},
          "execution_count": 4
        }
      ],
      "source": [
        "# How would you create a one dimensional NumPy array of the numbers from 10 to 100, counting by 10?\n",
        "one_dimension = np.arange(10, 101, 10)\n",
        "one_dimension"
      ]
    },
    {
      "cell_type": "code",
      "execution_count": null,
      "id": "80352bc0-bb0a-49ea-97fb-dd396bdd08ab",
      "metadata": {
        "colab": {
          "base_uri": "https://localhost:8080/"
        },
        "id": "80352bc0-bb0a-49ea-97fb-dd396bdd08ab",
        "outputId": "e445928c-8d0b-4b1e-8498-8ea766242db7"
      },
      "outputs": [
        {
          "output_type": "execute_result",
          "data": {
            "text/plain": [
              "[10, 20, 30, 40, 50, 60, 70, 80, 90, 100]"
            ]
          },
          "metadata": {},
          "execution_count": 5
        }
      ],
      "source": [
        "# How could you do the same thing with a standard Python range and a list?\n",
        "list1 = list(range(10, 101, 10))\n",
        "list1"
      ]
    },
    {
      "cell_type": "code",
      "execution_count": null,
      "id": "6e81bf28-4463-485c-a47f-155fb068674f",
      "metadata": {
        "id": "6e81bf28-4463-485c-a47f-155fb068674f"
      },
      "outputs": [],
      "source": [
        "# What does np.array() do (no arguments passed to constructor).  Guess:  exception?   Yes\n",
        "# np.array()"
      ]
    },
    {
      "cell_type": "code",
      "execution_count": null,
      "id": "16405be3-a548-44a7-859b-37413301444c",
      "metadata": {
        "colab": {
          "base_uri": "https://localhost:8080/"
        },
        "id": "16405be3-a548-44a7-859b-37413301444c",
        "outputId": "cdbf82ee-fda3-4003-fc63-2dd01c2e38c7"
      },
      "outputs": [
        {
          "output_type": "execute_result",
          "data": {
            "text/plain": [
              "array(['A', 'B', 'C', 'D', 'E', 'F', 'G', 'H', 'I', 'J', 'K', 'L', 'M',\n",
              "       'N', 'O', 'P', 'Q', 'R', 'S', 'T', 'U', 'V', 'W', 'X', 'Y', 'Z'],\n",
              "      dtype='<U1')"
            ]
          },
          "metadata": {},
          "execution_count": 9
        }
      ],
      "source": [
        "# How might you construct a NumPy array of capital letters (A-Z)\n",
        "capital_letters = np.array(list(string.ascii_uppercase))\n",
        "capital_letters"
      ]
    },
    {
      "cell_type": "code",
      "execution_count": null,
      "id": "72382829-d390-49b2-9ff2-5ef95a2680aa",
      "metadata": {
        "id": "72382829-d390-49b2-9ff2-5ef95a2680aa"
      },
      "outputs": [],
      "source": [
        "# How would you create a ten-element array of all zeros?\n",
        "zeros = np.zeros(10)\n",
        "\n",
        "# Of all ones?\n",
        "ones = np.ones(10)"
      ]
    },
    {
      "cell_type": "code",
      "execution_count": null,
      "id": "2f7cb258-330a-40a5-8834-21cbe7698e04",
      "metadata": {
        "id": "2f7cb258-330a-40a5-8834-21cbe7698e04"
      },
      "outputs": [],
      "source": [
        "# What is the default data dype for the np.zeros function?\n",
        "# float64"
      ]
    },
    {
      "cell_type": "code",
      "execution_count": null,
      "id": "4c75caaf-e958-4e36-8de5-d961d4486b3f",
      "metadata": {
        "colab": {
          "base_uri": "https://localhost:8080/"
        },
        "id": "4c75caaf-e958-4e36-8de5-d961d4486b3f",
        "outputId": "2c9c05e1-0941-4b7a-a7e6-33da5a2f9512"
      },
      "outputs": [
        {
          "output_type": "execute_result",
          "data": {
            "text/plain": [
              "array([32,  3, 74, 34, 29, 80,  4, 62, 81, 14])"
            ]
          },
          "metadata": {},
          "execution_count": 14
        }
      ],
      "source": [
        "# How can you create an array of 10 random integers?\n",
        "random_integers = np.random.randint(0, 100, size=10)\n",
        "random_integers"
      ]
    },
    {
      "cell_type": "code",
      "execution_count": null,
      "id": "f7158956-24a4-43ff-a010-bd402fae8035",
      "metadata": {
        "colab": {
          "base_uri": "https://localhost:8080/"
        },
        "id": "f7158956-24a4-43ff-a010-bd402fae8035",
        "outputId": "fab34491-c2ef-42a8-b2f3-ae4be8c13a77"
      },
      "outputs": [
        {
          "output_type": "execute_result",
          "data": {
            "text/plain": [
              "array([4.11237631, 3.56449012, 6.29446317, 4.83319929, 4.614756  ,\n",
              "       5.91131753, 5.46277964, 4.18730805, 5.70650218, 6.15496098])"
            ]
          },
          "metadata": {},
          "execution_count": 15
        }
      ],
      "source": [
        "# How can you create a normal distribution of 10 numbers, centered on 5?\n",
        "# Note, the 1 in center represents mu, size of STD DEV, and is arbitrary.\n",
        "normal_distribution = np.random.normal(loc=5, scale=1, size=10)\n",
        "normal_distribution"
      ]
    },
    {
      "cell_type": "code",
      "execution_count": null,
      "id": "dc5e8220-3fa2-4851-b45c-58cca3a0f981",
      "metadata": {
        "colab": {
          "base_uri": "https://localhost:8080/"
        },
        "id": "dc5e8220-3fa2-4851-b45c-58cca3a0f981",
        "outputId": "c7a25c03-f1e2-40d6-86ac-747b9fcc83b4"
      },
      "outputs": [
        {
          "output_type": "execute_result",
          "data": {
            "text/plain": [
              "array([0.11787614, 0.04243384, 0.67879187, 0.61063655, 0.12410831,\n",
              "       0.88267847, 0.00649909, 0.08886217, 0.28928017, 0.88538113])"
            ]
          },
          "metadata": {},
          "execution_count": 16
        }
      ],
      "source": [
        "# How can you create an array of 10 random numbers in the range 0 - 1?\n",
        "random_numbers = np.random.rand(10)\n",
        "random_numbers"
      ]
    },
    {
      "cell_type": "markdown",
      "id": "84dddbf7-fb7f-420d-bc1f-91c3154972d6",
      "metadata": {
        "id": "84dddbf7-fb7f-420d-bc1f-91c3154972d6"
      },
      "source": [
        "# Multidimensional arrays\n"
      ]
    },
    {
      "cell_type": "code",
      "execution_count": null,
      "id": "9b570674-e7e0-4faa-a902-320051aff59f",
      "metadata": {
        "colab": {
          "base_uri": "https://localhost:8080/"
        },
        "id": "9b570674-e7e0-4faa-a902-320051aff59f",
        "outputId": "2d4c5f74-6ce5-494c-cd2d-aa9217ddff03"
      },
      "outputs": [
        {
          "output_type": "execute_result",
          "data": {
            "text/plain": [
              "array([[0., 0., 0., 0., 0.],\n",
              "       [0., 0., 0., 0., 0.],\n",
              "       [0., 0., 0., 0., 0.]])"
            ]
          },
          "metadata": {},
          "execution_count": 17
        }
      ],
      "source": [
        "np.zeros((3, 5))"
      ]
    },
    {
      "cell_type": "code",
      "execution_count": null,
      "id": "582200e8-e936-40ce-9adc-d639c96c2680",
      "metadata": {
        "colab": {
          "base_uri": "https://localhost:8080/"
        },
        "id": "582200e8-e936-40ce-9adc-d639c96c2680",
        "outputId": "6bad5cd2-47c3-467f-d372-b27c2878fb2c"
      },
      "outputs": [
        {
          "output_type": "execute_result",
          "data": {
            "text/plain": [
              "array([[ 1,  2,  3,  4],\n",
              "       [ 5,  6,  7,  8],\n",
              "       [ 9, 10, 11, 12]])"
            ]
          },
          "metadata": {},
          "execution_count": 18
        }
      ],
      "source": [
        "array = np.arange(1, 13).reshape(3, 4)\n",
        "array"
      ]
    },
    {
      "cell_type": "code",
      "execution_count": null,
      "id": "9ad5156c-2d5f-40d3-a19b-9170b40c2089",
      "metadata": {
        "colab": {
          "base_uri": "https://localhost:8080/"
        },
        "id": "9ad5156c-2d5f-40d3-a19b-9170b40c2089",
        "outputId": "3348b00e-88a3-4a0d-a890-8c8350b1a662"
      },
      "outputs": [
        {
          "output_type": "execute_result",
          "data": {
            "text/plain": [
              "7"
            ]
          },
          "metadata": {},
          "execution_count": 20
        }
      ],
      "source": [
        "array[1,2]"
      ]
    },
    {
      "cell_type": "code",
      "execution_count": null,
      "id": "42fb03ca-033a-475b-82a1-f5e0399a4cc6",
      "metadata": {
        "colab": {
          "base_uri": "https://localhost:8080/"
        },
        "id": "42fb03ca-033a-475b-82a1-f5e0399a4cc6",
        "outputId": "62d883ac-2be1-43ac-c7f0-aaaeeed9e69e"
      },
      "outputs": [
        {
          "output_type": "execute_result",
          "data": {
            "text/plain": [
              "2"
            ]
          },
          "metadata": {},
          "execution_count": 21
        }
      ],
      "source": [
        "array.ndim"
      ]
    },
    {
      "cell_type": "code",
      "execution_count": null,
      "id": "8daa3694-3c11-4301-ba18-46e4be1f7e01",
      "metadata": {
        "colab": {
          "base_uri": "https://localhost:8080/"
        },
        "id": "8daa3694-3c11-4301-ba18-46e4be1f7e01",
        "outputId": "e3896bd0-ff28-4c38-da49-0c70ea8e6b56"
      },
      "outputs": [
        {
          "output_type": "execute_result",
          "data": {
            "text/plain": [
              "array([[ 1,  2,  3,  4,  5,  6],\n",
              "       [ 7,  8,  9, 10, 11, 12]])"
            ]
          },
          "metadata": {},
          "execution_count": 22
        }
      ],
      "source": [
        "array.reshape(2,6)"
      ]
    },
    {
      "cell_type": "code",
      "execution_count": null,
      "id": "4d648629-a4d3-4a15-8c39-5352e41ec9c2",
      "metadata": {
        "colab": {
          "base_uri": "https://localhost:8080/"
        },
        "id": "4d648629-a4d3-4a15-8c39-5352e41ec9c2",
        "outputId": "13c0d441-780a-4a36-9e5a-16672c3b5fe7"
      },
      "outputs": [
        {
          "output_type": "execute_result",
          "data": {
            "text/plain": [
              "array([[ 1,  2,  3,  4],\n",
              "       [ 5,  6,  7,  8],\n",
              "       [ 9, 10, 11, 12]])"
            ]
          },
          "metadata": {},
          "execution_count": 27
        }
      ],
      "source": [
        "array.shape\n",
        "array"
      ]
    },
    {
      "cell_type": "code",
      "execution_count": null,
      "id": "e5ca08be-78d2-4f1f-9031-fc6c98d75622",
      "metadata": {
        "colab": {
          "base_uri": "https://localhost:8080/"
        },
        "id": "e5ca08be-78d2-4f1f-9031-fc6c98d75622",
        "outputId": "62fd2a72-7e3b-4c41-b00e-0098685b152b"
      },
      "outputs": [
        {
          "output_type": "execute_result",
          "data": {
            "text/plain": [
              "array([[ 1,  2,  3,  4],\n",
              "       [ 5,  6,  7,  8],\n",
              "       [ 9, 10, 11, 12]])"
            ]
          },
          "metadata": {},
          "execution_count": 28
        }
      ],
      "source": [
        "x = array\n",
        "x"
      ]
    },
    {
      "cell_type": "code",
      "execution_count": null,
      "id": "f077a492-d21b-41e6-9c90-f5138375755f",
      "metadata": {
        "colab": {
          "base_uri": "https://localhost:8080/"
        },
        "id": "f077a492-d21b-41e6-9c90-f5138375755f",
        "outputId": "b06c2ac3-499a-4bf8-fba6-96effc4acdf4"
      },
      "outputs": [
        {
          "output_type": "execute_result",
          "data": {
            "text/plain": [
              "array([[42,  2,  3,  4],\n",
              "       [ 5,  6,  7,  8],\n",
              "       [ 9, 10, 11, 12]])"
            ]
          },
          "metadata": {},
          "execution_count": 29
        }
      ],
      "source": [
        "x[0,0] = 42\n",
        "array"
      ]
    },
    {
      "cell_type": "code",
      "execution_count": null,
      "id": "6bb52949-e8bd-470b-97c5-db21a4506fb5",
      "metadata": {
        "colab": {
          "base_uri": "https://localhost:8080/"
        },
        "id": "6bb52949-e8bd-470b-97c5-db21a4506fb5",
        "outputId": "55dfca61-464a-4ea4-9466-13776364ede0"
      },
      "outputs": [
        {
          "output_type": "execute_result",
          "data": {
            "text/plain": [
              "array([[5, 2, 1, 2],\n",
              "       [2, 1, 9, 3],\n",
              "       [1, 3, 1, 6]])"
            ]
          },
          "metadata": {},
          "execution_count": 30
        }
      ],
      "source": [
        "# Create a 3x4 array of random integers between 1 and 10\n",
        "random_integers = np.random.randint(1, 11, size=(3, 4))\n",
        "random_integers"
      ]
    },
    {
      "cell_type": "code",
      "execution_count": null,
      "id": "477de4fd-de29-4673-90f9-0f02eafd62b8",
      "metadata": {
        "colab": {
          "base_uri": "https://localhost:8080/"
        },
        "id": "477de4fd-de29-4673-90f9-0f02eafd62b8",
        "outputId": "d334e9ff-6a6a-4336-ca39-7d2277f3155b"
      },
      "outputs": [
        {
          "output_type": "execute_result",
          "data": {
            "text/plain": [
              "array([[2, 6, 4, 4],\n",
              "       [7, 6, 5, 2],\n",
              "       [4, 9, 6, 1]])"
            ]
          },
          "metadata": {},
          "execution_count": 31
        }
      ],
      "source": [
        "# ... or:\n",
        "arr = np.random.randint(1,11,12).reshape(3,4)\n",
        "arr"
      ]
    },
    {
      "cell_type": "code",
      "execution_count": null,
      "id": "50c4ec18-19f7-4388-b77b-9cbecbf843f6",
      "metadata": {
        "colab": {
          "base_uri": "https://localhost:8080/"
        },
        "id": "50c4ec18-19f7-4388-b77b-9cbecbf843f6",
        "outputId": "bb6b1fa8-2356-4b33-b12d-c581f7536d81"
      },
      "outputs": [
        {
          "output_type": "execute_result",
          "data": {
            "text/plain": [
              "array([[0, 0, 0, 0],\n",
              "       [0, 0, 0, 0],\n",
              "       [0, 0, 0, 0]])"
            ]
          },
          "metadata": {},
          "execution_count": 32
        }
      ],
      "source": [
        "arr - arr"
      ]
    },
    {
      "cell_type": "code",
      "execution_count": null,
      "id": "981ea130-d8ea-4130-9338-225223593a5a",
      "metadata": {
        "id": "981ea130-d8ea-4130-9338-225223593a5a"
      },
      "outputs": [],
      "source": [
        "z_list = [z for z in range(0,5)]\n",
        "y_list = [z_list for y in range(0,4)]\n",
        "x_list = [y_list for x in range(0,3)]\n",
        "\n",
        "x_array = np.array(x_list)\n",
        "y_array = np.array(y_list)\n",
        "z_array = np.array(z_list)"
      ]
    },
    {
      "cell_type": "code",
      "execution_count": null,
      "id": "c347cf60-68ee-4176-bc5d-932af651559e",
      "metadata": {
        "colab": {
          "base_uri": "https://localhost:8080/"
        },
        "id": "c347cf60-68ee-4176-bc5d-932af651559e",
        "outputId": "c89d2806-ada5-4572-c5b9-3506c5232a60"
      },
      "outputs": [
        {
          "output_type": "execute_result",
          "data": {
            "text/plain": [
              "(3, 4, 5)"
            ]
          },
          "metadata": {},
          "execution_count": 35
        }
      ],
      "source": [
        "x_array.shape"
      ]
    },
    {
      "cell_type": "code",
      "execution_count": null,
      "id": "fc78bfe7-cf2e-4a2c-8035-6cf70e2c3876",
      "metadata": {
        "colab": {
          "base_uri": "https://localhost:8080/"
        },
        "id": "fc78bfe7-cf2e-4a2c-8035-6cf70e2c3876",
        "outputId": "86e96c86-073c-410b-e4a0-d18bada05df4"
      },
      "outputs": [
        {
          "output_type": "execute_result",
          "data": {
            "text/plain": [
              "3"
            ]
          },
          "metadata": {},
          "execution_count": 36
        }
      ],
      "source": [
        "# What is the value of x_array.ndim?\n",
        "x_array.ndim"
      ]
    },
    {
      "cell_type": "code",
      "execution_count": null,
      "id": "3295de06-6160-419c-a73a-b11df5fcf910",
      "metadata": {
        "colab": {
          "base_uri": "https://localhost:8080/"
        },
        "id": "3295de06-6160-419c-a73a-b11df5fcf910",
        "outputId": "eb4a070b-e887-47e0-90c3-6ce19f89d88c"
      },
      "outputs": [
        {
          "output_type": "execute_result",
          "data": {
            "text/plain": [
              "True"
            ]
          },
          "metadata": {},
          "execution_count": 37
        }
      ],
      "source": [
        "# Given the following:\n",
        "arr = np.arange(0,6).reshape(2,3)\n",
        "arr\n",
        "# How could you convert it to an array that looks like\n",
        "# array([[0,3], [1,4], [2,5]))\n",
        "# My answer either arr.transpose() or arr.T\n",
        "(arr.transpose() == arr.T).all()\n",
        "# Note difference is mutablity?  NO!  Both return a view.  Need to copy.\n",
        "# arr.transpose()\n"
      ]
    },
    {
      "cell_type": "code",
      "execution_count": null,
      "id": "35d03861-17b9-42d4-aea3-b42c5aba8652",
      "metadata": {
        "colab": {
          "base_uri": "https://localhost:8080/"
        },
        "id": "35d03861-17b9-42d4-aea3-b42c5aba8652",
        "outputId": "fe49be03-a887-4292-d5ab-c4444ca5a19c"
      },
      "outputs": [
        {
          "output_type": "execute_result",
          "data": {
            "text/plain": [
              "array([[ 1,  2,  3,  4,  5],\n",
              "       [ 6,  7,  8,  9, 10],\n",
              "       [11, 12, 13, 14, 15],\n",
              "       [16, 17, 18, 19, 20]])"
            ]
          },
          "metadata": {},
          "execution_count": 38
        }
      ],
      "source": [
        "four_by_five = np.arange(1, 21).reshape(4,5)\n",
        "four_by_five"
      ]
    },
    {
      "cell_type": "code",
      "execution_count": null,
      "id": "d3882a92-0a58-415f-b55c-1a286288e7ce",
      "metadata": {
        "colab": {
          "base_uri": "https://localhost:8080/"
        },
        "id": "d3882a92-0a58-415f-b55c-1a286288e7ce",
        "outputId": "20288879-9ab0-4058-f753-9187f8199cb8"
      },
      "outputs": [
        {
          "output_type": "execute_result",
          "data": {
            "text/plain": [
              "array([1, 2, 3, 4, 5])"
            ]
          },
          "metadata": {},
          "execution_count": 39
        }
      ],
      "source": [
        "# Write an exoression to return the first row\n",
        "four_by_five[0]"
      ]
    },
    {
      "cell_type": "code",
      "execution_count": null,
      "id": "2b8a9a1c-045a-4c03-b8e8-897bfe253d78",
      "metadata": {
        "colab": {
          "base_uri": "https://localhost:8080/"
        },
        "id": "2b8a9a1c-045a-4c03-b8e8-897bfe253d78",
        "outputId": "db0e0ad2-101e-4cc9-ca03-da13e7c64a16"
      },
      "outputs": [
        {
          "output_type": "execute_result",
          "data": {
            "text/plain": [
              "array([16, 17, 18, 19, 20])"
            ]
          },
          "metadata": {},
          "execution_count": 40
        }
      ],
      "source": [
        "# Write an exoression to return the last row\n",
        "four_by_five[-1]"
      ]
    },
    {
      "cell_type": "code",
      "execution_count": null,
      "id": "b2c4311c-51de-4f5a-801e-864b51666227",
      "metadata": {
        "colab": {
          "base_uri": "https://localhost:8080/"
        },
        "id": "b2c4311c-51de-4f5a-801e-864b51666227",
        "outputId": "dd0a18d5-bbcc-443e-82f6-53274b7ed8c6"
      },
      "outputs": [
        {
          "output_type": "execute_result",
          "data": {
            "text/plain": [
              "14"
            ]
          },
          "metadata": {},
          "execution_count": 41
        }
      ],
      "source": [
        "# What does four_by_five[2,3] return?  My answer, 14 (scalar)\n",
        "four_by_five[2,3]"
      ]
    },
    {
      "cell_type": "code",
      "execution_count": null,
      "id": "ba187a5d-e6d4-452d-af36-951d9c0ce1ce",
      "metadata": {
        "colab": {
          "base_uri": "https://localhost:8080/"
        },
        "id": "ba187a5d-e6d4-452d-af36-951d9c0ce1ce",
        "outputId": "d438d68e-c676-4ff0-b29e-e2757a2eba30"
      },
      "outputs": [
        {
          "output_type": "execute_result",
          "data": {
            "text/plain": [
              "18"
            ]
          },
          "metadata": {},
          "execution_count": 42
        }
      ],
      "source": [
        "# What does four_by_five[3,2] return?  My answer, 18 (scalar)\n",
        "four_by_five[3,2]"
      ]
    },
    {
      "cell_type": "code",
      "execution_count": null,
      "id": "f27bbdea-44d0-40db-840c-7ed785968bcc",
      "metadata": {
        "colab": {
          "base_uri": "https://localhost:8080/"
        },
        "id": "f27bbdea-44d0-40db-840c-7ed785968bcc",
        "outputId": "6bcaabab-adec-4aee-daf1-7864a4c9c783"
      },
      "outputs": [
        {
          "output_type": "execute_result",
          "data": {
            "text/plain": [
              "array([ 1,  6, 11, 16])"
            ]
          },
          "metadata": {},
          "execution_count": 43
        }
      ],
      "source": [
        "# How could you return the first column?  It will be a (four-element array ending with 16.) My answer four_by_five[:,0]\n",
        "four_by_five[:,0]"
      ]
    },
    {
      "cell_type": "code",
      "execution_count": null,
      "id": "e98683e1-25d4-4bb5-a0b4-046f37b76073",
      "metadata": {
        "colab": {
          "base_uri": "https://localhost:8080/"
        },
        "id": "e98683e1-25d4-4bb5-a0b4-046f37b76073",
        "outputId": "48a64060-04a3-4189-d1bf-71dd6c637d3c"
      },
      "outputs": [
        {
          "output_type": "execute_result",
          "data": {
            "text/plain": [
              "array([[ 3,  4],\n",
              "       [ 8,  9],\n",
              "       [13, 14],\n",
              "       [18, 19]])"
            ]
          },
          "metadata": {},
          "execution_count": 44
        }
      ],
      "source": [
        "# What does four_by_five[:, 2:4] return?\n",
        "# My answer the last two columns -- wrong, third and fourth columns\n",
        "four_by_five[:, 2:4]"
      ]
    },
    {
      "cell_type": "code",
      "execution_count": null,
      "id": "55f8a1e5-6cd0-4171-9593-2a1c3414e290",
      "metadata": {
        "colab": {
          "base_uri": "https://localhost:8080/"
        },
        "id": "55f8a1e5-6cd0-4171-9593-2a1c3414e290",
        "outputId": "2ecac685-54b2-414c-ed87-ccf9e9dd8260"
      },
      "outputs": [
        {
          "output_type": "execute_result",
          "data": {
            "text/plain": [
              "array([[ 4,  5],\n",
              "       [ 9, 10],\n",
              "       [14, 15],\n",
              "       [19, 20]])"
            ]
          },
          "metadata": {},
          "execution_count": 45
        }
      ],
      "source": [
        "# What does four_by_five[:, 3:5] return?\n",
        "four_by_five[:, 3:5]"
      ]
    },
    {
      "cell_type": "code",
      "execution_count": null,
      "id": "91aefd49-65f6-4ade-9d9e-163b7ec4bd04",
      "metadata": {
        "colab": {
          "base_uri": "https://localhost:8080/"
        },
        "id": "91aefd49-65f6-4ade-9d9e-163b7ec4bd04",
        "outputId": "d5a2ce62-f4c2-490e-e17a-9aa30550c39c"
      },
      "outputs": [
        {
          "output_type": "execute_result",
          "data": {
            "text/plain": [
              "array([[ 9, 10],\n",
              "       [14, 15]])"
            ]
          },
          "metadata": {},
          "execution_count": 46
        }
      ],
      "source": [
        "# Write an expression to return the last two columns of the middle two rows.\n",
        "four_by_five[1:3, 3:]"
      ]
    },
    {
      "cell_type": "code",
      "execution_count": null,
      "id": "d8dab8a1-5d00-4c46-a838-7fbd0772876a",
      "metadata": {
        "colab": {
          "base_uri": "https://localhost:8080/"
        },
        "id": "d8dab8a1-5d00-4c46-a838-7fbd0772876a",
        "outputId": "9d8823bf-6aa8-4e41-cef0-b501d2d3455d"
      },
      "outputs": [
        {
          "output_type": "execute_result",
          "data": {
            "text/plain": [
              "array([1, 2, 3, 4, 5])"
            ]
          },
          "metadata": {},
          "execution_count": 47
        }
      ],
      "source": [
        "one_dim = np.arange(1,6)\n",
        "one_dim"
      ]
    },
    {
      "cell_type": "code",
      "execution_count": null,
      "id": "59632045-f5c8-4571-90ff-c8ae172fddca",
      "metadata": {
        "colab": {
          "base_uri": "https://localhost:8080/"
        },
        "id": "59632045-f5c8-4571-90ff-c8ae172fddca",
        "outputId": "877cc93e-51cc-4552-f746-1294ec49c5fb"
      },
      "outputs": [
        {
          "output_type": "execute_result",
          "data": {
            "text/plain": [
              "array([ 2,  4,  6,  8, 10])"
            ]
          },
          "metadata": {},
          "execution_count": 48
        }
      ],
      "source": [
        "# What would be the result of one_dim * 2\n",
        "# My answer array([2, 4, 6, 8, 10])\n",
        "one_dim * 2"
      ]
    },
    {
      "cell_type": "code",
      "execution_count": null,
      "id": "1d8bac55-9919-42ca-a57b-8d96de4c055b",
      "metadata": {
        "colab": {
          "base_uri": "https://localhost:8080/"
        },
        "id": "1d8bac55-9919-42ca-a57b-8d96de4c055b",
        "outputId": "e6f3f750-0e75-4cd9-b9f6-25229afa53ae"
      },
      "outputs": [
        {
          "output_type": "execute_result",
          "data": {
            "text/plain": [
              "array([6, 6, 6, 6, 6])"
            ]
          },
          "metadata": {},
          "execution_count": 49
        }
      ],
      "source": [
        "# What would be the result of one_dim + np.arange(5, 0, -1)?\n",
        "# My answer:  array([ 6,  6,  6,  6, 6])\n",
        "one_dim + np.arange(5, 0, -1)"
      ]
    },
    {
      "cell_type": "code",
      "execution_count": null,
      "id": "4930a95b-f550-4cdf-b779-e04c55b2d1d0",
      "metadata": {
        "colab": {
          "base_uri": "https://localhost:8080/"
        },
        "id": "4930a95b-f550-4cdf-b779-e04c55b2d1d0",
        "outputId": "9bbccdf9-ce7b-4609-fbe5-a828e511f61c"
      },
      "outputs": [
        {
          "output_type": "execute_result",
          "data": {
            "text/plain": [
              "array([0, 0, 0, 0, 0])"
            ]
          },
          "metadata": {},
          "execution_count": 50
        }
      ],
      "source": [
        "# How many zeros are in the array returned by one_dim - one_dim ?\n",
        "# My answer: 5\n",
        "one_dim - one_dim"
      ]
    },
    {
      "cell_type": "code",
      "execution_count": null,
      "id": "08e01f28-cc36-45af-8600-781fa11c3a98",
      "metadata": {
        "colab": {
          "base_uri": "https://localhost:8080/"
        },
        "id": "08e01f28-cc36-45af-8600-781fa11c3a98",
        "outputId": "c4a7f433-82b3-4c58-a4eb-b596fb16224d"
      },
      "outputs": [
        {
          "output_type": "execute_result",
          "data": {
            "text/plain": [
              "array([False, False,  True,  True,  True])"
            ]
          },
          "metadata": {},
          "execution_count": 51
        }
      ],
      "source": [
        "# What is the result of one_dim > 2 ?\n",
        "# My answer:  array([F, F, T, T, T])  (abbreviated)\n",
        "one_dim > 2"
      ]
    },
    {
      "cell_type": "code",
      "execution_count": null,
      "id": "da58dc9e-9d31-4422-9602-bbb7d50da8d6",
      "metadata": {
        "colab": {
          "base_uri": "https://localhost:8080/"
        },
        "id": "da58dc9e-9d31-4422-9602-bbb7d50da8d6",
        "outputId": "ad1550ef-12bf-4e92-9d78-afb599d0ff95"
      },
      "outputs": [
        {
          "output_type": "execute_result",
          "data": {
            "text/plain": [
              "array([ True, False, False, False,  True])"
            ]
          },
          "metadata": {},
          "execution_count": 52
        }
      ],
      "source": [
        "# For NumPy arrays, logical operations are done with the operators \"&\" and \"|\",\n",
        "# rather than the usual Python \"and\" and \"or\".  Given that, can you evaluate this expression?\n",
        "# (one_dim > 4) | (one_dim == 1)\n",
        "# My answer: array([True, False, False, False, True])\n",
        "(one_dim > 4) | (one_dim == 1)"
      ]
    },
    {
      "cell_type": "code",
      "execution_count": null,
      "id": "09b89fce-0a25-4756-aacc-353f960153ea",
      "metadata": {
        "colab": {
          "base_uri": "https://localhost:8080/"
        },
        "id": "09b89fce-0a25-4756-aacc-353f960153ea",
        "outputId": "e6dfc492-d89b-49a0-f72b-c69c58906226"
      },
      "outputs": [
        {
          "output_type": "execute_result",
          "data": {
            "text/plain": [
              "array([-1, -2, -3, -4, -5])"
            ]
          },
          "metadata": {},
          "execution_count": 53
        }
      ],
      "source": [
        "# What is the result of -one_dim?\n",
        "# My answer array([-1, -2, -3, -4, -5])\n",
        "-one_dim"
      ]
    },
    {
      "cell_type": "code",
      "execution_count": null,
      "id": "ed5b0df9-9b73-4405-bbec-268bfaa98333",
      "metadata": {
        "colab": {
          "base_uri": "https://localhost:8080/"
        },
        "id": "ed5b0df9-9b73-4405-bbec-268bfaa98333",
        "outputId": "70fcdcd0-b16e-4fec-bb81-3e762b84ff0f"
      },
      "outputs": [
        {
          "output_type": "execute_result",
          "data": {
            "text/plain": [
              "array([4, 5])"
            ]
          },
          "metadata": {},
          "execution_count": 54
        }
      ],
      "source": [
        "# np.absolute take the absolute value of each element.  Given that, what would the result be of the following expression:\n",
        "# My answer 4,5\n",
        "np.absolute(-(one_dim[3:]))"
      ]
    },
    {
      "cell_type": "code",
      "execution_count": null,
      "id": "f4612ae8-f93f-4296-8631-56d7ada74092",
      "metadata": {
        "colab": {
          "base_uri": "https://localhost:8080/"
        },
        "id": "f4612ae8-f93f-4296-8631-56d7ada74092",
        "outputId": "788d9dc8-be00-422b-ff4c-3e25cbe7f7b7"
      },
      "outputs": [
        {
          "output_type": "execute_result",
          "data": {
            "text/plain": [
              "15"
            ]
          },
          "metadata": {},
          "execution_count": 55
        }
      ],
      "source": [
        "# What is returned by one_dim.sum()?\n",
        "# My answer: 15\n",
        "one_dim.sum()"
      ]
    },
    {
      "cell_type": "code",
      "execution_count": null,
      "id": "e97074f7-fd56-4274-99ad-7dbcaa4ecada",
      "metadata": {
        "colab": {
          "base_uri": "https://localhost:8080/"
        },
        "id": "e97074f7-fd56-4274-99ad-7dbcaa4ecada",
        "outputId": "2a85c046-7029-4718-b303-a456804bd3b4"
      },
      "outputs": [
        {
          "output_type": "stream",
          "name": "stdout",
          "text": [
            "[1 2 3 4 5]\n"
          ]
        },
        {
          "output_type": "execute_result",
          "data": {
            "text/plain": [
              "3.0"
            ]
          },
          "metadata": {},
          "execution_count": 56
        }
      ],
      "source": [
        "# What is the value of one_dim.mean() ?\n",
        "print(one_dim)\n",
        "one_dim.mean() # The median!\n"
      ]
    },
    {
      "cell_type": "code",
      "execution_count": null,
      "id": "b4a5e90d-f681-445e-a150-b103c44e6a8b",
      "metadata": {
        "colab": {
          "base_uri": "https://localhost:8080/"
        },
        "id": "b4a5e90d-f681-445e-a150-b103c44e6a8b",
        "outputId": "203d7b83-245f-43c1-a59d-922a9ee5fce9"
      },
      "outputs": [
        {
          "output_type": "execute_result",
          "data": {
            "text/plain": [
              "array([0.        , 1.57079633, 3.14159265, 4.71238898, 6.28318531])"
            ]
          },
          "metadata": {},
          "execution_count": 57
        }
      ],
      "source": [
        "# Given the following...\n",
        "arr = np.array([0., .5, 1.0, 1.5, 2.0]) * np.pi\n",
        "arr"
      ]
    },
    {
      "cell_type": "code",
      "execution_count": null,
      "id": "f1cfb763-4648-475a-83eb-d7472f33055c",
      "metadata": {
        "colab": {
          "base_uri": "https://localhost:8080/"
        },
        "id": "f1cfb763-4648-475a-83eb-d7472f33055c",
        "outputId": "7dc06b6a-ba5e-4d6c-e64d-6ba0cf052c54"
      },
      "outputs": [
        {
          "output_type": "execute_result",
          "data": {
            "text/plain": [
              "array([ 0.,  1.,  0., -1., -0.])"
            ]
          },
          "metadata": {},
          "execution_count": 58
        }
      ],
      "source": [
        "# What are the \"approximate\" values for\n",
        "# np.around(np.sin(arr), 0)\n",
        "# My answer:  array(0, 1, 0, -1, 0)\n",
        "np.around(np.sin(arr), 0)"
      ]
    },
    {
      "cell_type": "code",
      "execution_count": null,
      "id": "3b9c5f32-7009-4ba2-b2dc-31ec5d0ddfbd",
      "metadata": {
        "colab": {
          "base_uri": "https://localhost:8080/"
        },
        "id": "3b9c5f32-7009-4ba2-b2dc-31ec5d0ddfbd",
        "outputId": "7304c356-6a12-4287-9095-0610988fb0e9"
      },
      "outputs": [
        {
          "output_type": "execute_result",
          "data": {
            "text/plain": [
              "array([ 1.,  0., -1., -0.,  1.])"
            ]
          },
          "metadata": {},
          "execution_count": 59
        }
      ],
      "source": [
        "# What are the approximate values for\n",
        "# np.around(np.cos(arr), 0)\n",
        "# My answer:  array(1, 0, -1, 0, 1)\n",
        "np.around(np.cos(arr), 0)"
      ]
    },
    {
      "cell_type": "code",
      "execution_count": null,
      "id": "318d64da-cf28-448c-8052-a5545420ed1f",
      "metadata": {
        "id": "318d64da-cf28-448c-8052-a5545420ed1f"
      },
      "outputs": [],
      "source": [
        "# You're asked to save the following two arrays as is to a file, \"data.npz\". The arrays should be named as they are here in the file. How could you do it?\n",
        "people = np.array([\"John\", \"Jenniffer\", \"Helen\", \"Miryam\"])\n",
        "languages = np.array([2, 2, 1, 1])\n",
        "# My answer np.savez(\"data.npz\", people=people, languages=languages)\n",
        "np.savez(\"data.npz\", people=people, languages=languages)"
      ]
    },
    {
      "cell_type": "code",
      "execution_count": null,
      "id": "3e9238c9-83be-471e-b4ee-62940f941ce4",
      "metadata": {
        "colab": {
          "base_uri": "https://localhost:8080/"
        },
        "id": "3e9238c9-83be-471e-b4ee-62940f941ce4",
        "outputId": "eb15b684-27ac-4780-eb0e-aad1ba165992"
      },
      "outputs": [
        {
          "output_type": "stream",
          "name": "stdout",
          "text": [
            "['John' 'Jenniffer' 'Helen' 'Miryam']\n",
            "[2 2 1 1]\n"
          ]
        }
      ],
      "source": [
        "# How could you load the files again into two new variables, people2 and languages2\n",
        "arrays = np.load(\"data.npz\")\n",
        "people2 = arrays[\"people\"]\n",
        "languages2 = arrays[\"languages\"]\n",
        "print(people2)\n",
        "print(languages2)"
      ]
    },
    {
      "cell_type": "code",
      "execution_count": null,
      "id": "05dbbe29-7b09-42e7-bd28-c5b999f1152a",
      "metadata": {
        "id": "05dbbe29-7b09-42e7-bd28-c5b999f1152a"
      },
      "outputs": [],
      "source": [
        "# Given\n",
        "# arr = np.arange(1,13).reshape(3,4)\n",
        "# Save it to a csv file, \"myrray.csv\".\n",
        "arr = np.arange(1,13).reshape(3,4)\n",
        "np.savetxt(\"myarray.csv\", arr, delimiter=\",\")"
      ]
    },
    {
      "cell_type": "code",
      "execution_count": null,
      "id": "4ba692a5-9de6-41c2-9ef3-2cf32f6b3935",
      "metadata": {
        "colab": {
          "base_uri": "https://localhost:8080/"
        },
        "id": "4ba692a5-9de6-41c2-9ef3-2cf32f6b3935",
        "outputId": "7c3f6bc1-a868-4ee8-96e1-3443a9057169"
      },
      "outputs": [
        {
          "output_type": "execute_result",
          "data": {
            "text/plain": [
              "array([[ 1.,  2.,  3.,  4.],\n",
              "       [ 5.,  6.,  7.,  8.],\n",
              "       [ 9., 10., 11., 12.]])"
            ]
          },
          "metadata": {},
          "execution_count": 65
        }
      ],
      "source": [
        "# How would you load it back into arr2?\n",
        "# My guess: arr2 = np.loadtxt(\"myarray.csv\", delimiter=\",\")\n",
        "arr2 = np.loadtxt(\"myarray.csv\", delimiter=\",\")\n",
        "arr2"
      ]
    },
    {
      "cell_type": "code",
      "execution_count": null,
      "id": "44a727b0-fe2d-4bd0-a9a0-1c053df15db3",
      "metadata": {
        "colab": {
          "base_uri": "https://localhost:8080/"
        },
        "id": "44a727b0-fe2d-4bd0-a9a0-1c053df15db3",
        "outputId": "69c12300-674e-4dd3-98f6-b984d0de4724"
      },
      "outputs": [
        {
          "output_type": "execute_result",
          "data": {
            "text/plain": [
              "array([\"I'm\", 'a', 'lumberjack', 'and', \"I'm\", 'OK', 'I', 'sleep', 'all',\n",
              "       'night', 'and', 'I', 'work', 'all', 'day'], dtype='<U10')"
            ]
          },
          "metadata": {},
          "execution_count": 66
        }
      ],
      "source": [
        "# Given\n",
        "lumberjack = np.array(\"I'm a lumberjack and I'm OK I sleep all night and I work all day\".split(\" \"))\n",
        "lumberjack"
      ]
    },
    {
      "cell_type": "code",
      "execution_count": null,
      "id": "333cab80-895e-4b55-bef1-31c1905fb7e5",
      "metadata": {
        "colab": {
          "base_uri": "https://localhost:8080/"
        },
        "id": "333cab80-895e-4b55-bef1-31c1905fb7e5",
        "outputId": "09a1ffbb-e1b7-40fc-e76d-5cdda09ace0f"
      },
      "outputs": [
        {
          "output_type": "execute_result",
          "data": {
            "text/plain": [
              "array([\"I'm\", 'A', 'Lumberjack', 'And', \"I'm\", 'Ok', 'I', 'Sleep', 'All',\n",
              "       'Night', 'And', 'I', 'Work', 'All', 'Day'], dtype='<U10')"
            ]
          },
          "metadata": {},
          "execution_count": 67
        }
      ],
      "source": [
        "# How could you capitalize the first character of each string?\n",
        "# Guessed np.capitalize(lumberjack) wrong\n",
        "np.char.capitalize(lumberjack)"
      ]
    },
    {
      "cell_type": "code",
      "execution_count": null,
      "id": "11934bc2-e138-4735-ab81-7a08cefe37a6",
      "metadata": {
        "colab": {
          "base_uri": "https://localhost:8080/",
          "height": 35
        },
        "id": "11934bc2-e138-4735-ab81-7a08cefe37a6",
        "outputId": "b83bddd8-3c71-442b-e620-03eca5d72a5f"
      },
      "outputs": [
        {
          "output_type": "execute_result",
          "data": {
            "text/plain": [
              "'Lumberjack'"
            ],
            "application/vnd.google.colaboratory.intrinsic+json": {
              "type": "string"
            }
          },
          "metadata": {},
          "execution_count": 68
        }
      ],
      "source": [
        "# What would you expect the value of np.char.capitalize(lunberjack)[2] to be?\n",
        "# My answer \"Lumberjack\"\n",
        "np.char.capitalize(lumberjack)[2]"
      ]
    },
    {
      "cell_type": "code",
      "execution_count": null,
      "id": "452a193d-06da-4db4-bbe1-f47b154de04a",
      "metadata": {
        "colab": {
          "base_uri": "https://localhost:8080/"
        },
        "id": "452a193d-06da-4db4-bbe1-f47b154de04a",
        "outputId": "965d246b-44e7-44e6-8705-dafd73abbc53"
      },
      "outputs": [
        {
          "output_type": "execute_result",
          "data": {
            "text/plain": [
              "array([\"*I'm*\", '*a*', '*lumberjack*', '*and*', \"*I'm*\", '*OK*', '*I*',\n",
              "       '*sleep*', '*all*', '*night*', '*and*', '*I*', '*work*', '*all*',\n",
              "       '*day*'], dtype='<U12')"
            ]
          },
          "metadata": {},
          "execution_count": 69
        }
      ],
      "source": [
        "# How could you surround each string with an initial and final asterisk character (*)?\n",
        "# Guessed add takes n arguments, wrong, need two arguments at a time\n",
        "np.char.add(np.char.add(\"*\", lumberjack), \"*\")"
      ]
    },
    {
      "cell_type": "code",
      "execution_count": null,
      "id": "d28f1de2-6329-4036-abce-268fd6cc209a",
      "metadata": {
        "id": "d28f1de2-6329-4036-abce-268fd6cc209a"
      },
      "outputs": [],
      "source": [
        "# np.where can be used to make selections.  How can we use this to create a smaller array of those strings that have a length >= 5?\n",
        "# My guess np.where(lumberjack, np.length(lumberjack) >= 5)  Way off."
      ]
    },
    {
      "cell_type": "code",
      "execution_count": null,
      "id": "8d279d64-e5fd-4841-b2a1-4283207afbbd",
      "metadata": {
        "colab": {
          "base_uri": "https://localhost:8080/"
        },
        "id": "8d279d64-e5fd-4841-b2a1-4283207afbbd",
        "outputId": "d1199a91-8017-4874-f0b3-e9a3b71e62fc"
      },
      "outputs": [
        {
          "output_type": "execute_result",
          "data": {
            "text/plain": [
              "(array([2, 7, 9]),)"
            ]
          },
          "metadata": {},
          "execution_count": 71
        }
      ],
      "source": [
        "np.where(np.char.str_len(lumberjack) >=5)"
      ]
    },
    {
      "cell_type": "code",
      "execution_count": null,
      "id": "b3c073c8-984e-42d1-85b4-161dd02176ba",
      "metadata": {
        "colab": {
          "base_uri": "https://localhost:8080/"
        },
        "id": "b3c073c8-984e-42d1-85b4-161dd02176ba",
        "outputId": "8949c21d-8583-4d47-f0ba-b62fbc08ef88"
      },
      "outputs": [
        {
          "output_type": "execute_result",
          "data": {
            "text/plain": [
              "array(['lumberjack', 'sleep', 'night'], dtype='<U10')"
            ]
          },
          "metadata": {},
          "execution_count": 72
        }
      ],
      "source": [
        "lumberjack[np.where(np.char.str_len(lumberjack) >=5)]"
      ]
    }
  ],
  "metadata": {
    "kernelspec": {
      "display_name": "Python 3 (ipykernel)",
      "language": "python",
      "name": "python3"
    },
    "language_info": {
      "codemirror_mode": {
        "name": "ipython",
        "version": 3
      },
      "file_extension": ".py",
      "mimetype": "text/x-python",
      "name": "python",
      "nbconvert_exporter": "python",
      "pygments_lexer": "ipython3",
      "version": "3.12.7"
    },
    "colab": {
      "provenance": []
    }
  },
  "nbformat": 4,
  "nbformat_minor": 5
}